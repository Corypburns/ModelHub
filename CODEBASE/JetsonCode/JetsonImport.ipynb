{
 "cells": [
  {
   "cell_type": "markdown",
   "id": "31950a45",
   "metadata": {},
   "source": [
    "##### Step 1: Import Jtop and NumPy"
   ]
  },
  {
   "cell_type": "code",
   "execution_count": null,
   "id": "f3d207f6",
   "metadata": {},
   "outputs": [],
   "source": [
    "from jtop import jtop as jt\n",
    "import numpy as np"
   ]
  },
  {
   "cell_type": "markdown",
   "id": "55544fcd",
   "metadata": {},
   "source": [
    "##### Step 2: Grab readings from Jtop and the associated values"
   ]
  },
  {
   "cell_type": "code",
   "execution_count": null,
   "id": "595f26c3",
   "metadata": {},
   "outputs": [
    {
     "ename": "",
     "evalue": "",
     "output_type": "error",
     "traceback": [
      "\u001b[1;31mRunning cells with 'Python 3.12.0' requires the ipykernel package.\n",
      "\u001b[1;31m<a href='command:jupyter.createPythonEnvAndSelectController'>Create a Python Environment</a> with the required packages.\n",
      "\u001b[1;31mOr install 'ipykernel' using the command: 'c:/Users/Cory/AppData/Local/Programs/Python/Python312/python.exe -m pip install ipykernel -U --user --force-reinstall'"
     ]
    }
   ],
   "source": [
    "def readings(stats):\n",
    "    # === Key value and dictionary mapping === \n",
    "    power = stats.get(\"power\", {}) \n",
    "    voltage = stats.get(\"voltage\", {}) \n",
    "    current = stats.get(\"current\", {}) \n",
    "    \n",
    "    # === Get the values from the dictionary ===\n",
    "    power_values = list(power.values())\n",
    "    voltage_values = list(voltage.values())\n",
    "    current_values = list(current.values())\n",
    "    \n",
    "    v_mean = np.mean(voltage_values) if voltage_values else 0\n",
    "    v_max = np.max(voltage_values) if voltage_values else 0\n",
    "    c_mean = np.mean(current_values) if current_values else 0\n",
    "    c_max = np.mean(current_values) if current_values else 0\n",
    "    pwr_total = np.sum(power_values) if power_values else 0\n",
    "    \n",
    "    return pwr_total, v_max, v_mean, c_max, c_mean\n",
    "\n",
    "if jt.ok():\n",
    "    pwr, v_max, v_mean, c_max, c_mean = readings(jt.stats)\n",
    "    print(f\"Power: {pwr:.2f} mW\")\n",
    "    print(f\"Max Voltage: {v_max:.2f}\")\n",
    "    print(f\"Max_Current: {c_max:.2f}\")\n",
    "else:\n",
    "    print(\"Jtop is either not installed or you are not on a Jetson device\")"
   ]
  },
  {
   "cell_type": "markdown",
   "id": "299258ed",
   "metadata": {},
   "source": [
    "**Note:** Stats is expected to be a dictionary and each variable has a set amount of keys in the dictionary that are mapped to certain values to get the consumption.\n",
    "\n",
    "**Note:** It should also be noted that you must be ON a Jetson Nano device to utilize Jtop otherwise either it won't install or it just simply won't work."
   ]
  }
 ],
 "metadata": {
  "kernelspec": {
   "display_name": "Python 3",
   "language": "python",
   "name": "python3"
  },
  "language_info": {
   "name": "python",
   "version": "3.12.0"
  }
 },
 "nbformat": 4,
 "nbformat_minor": 5
}
